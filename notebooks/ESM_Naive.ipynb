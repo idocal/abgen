{
 "cells": [
  {
   "cell_type": "code",
   "execution_count": 96,
   "id": "f5ef1ac0",
   "metadata": {},
   "outputs": [],
   "source": [
    "import torch\n",
    "import pandas as pd\n",
    "import matplotlib.pyplot as plt\n",
    "import torch.nn.functional as F"
   ]
  },
  {
   "cell_type": "code",
   "execution_count": 11,
   "id": "5841b2d4",
   "metadata": {},
   "outputs": [
    {
     "name": "stderr",
     "output_type": "stream",
     "text": [
      "Using cache found in /Users/ido/.cache/torch/hub/facebookresearch_esm_main\n"
     ]
    }
   ],
   "source": [
    "model, alphabet = torch.hub.load(\"facebookresearch/esm:main\", \"esm1b_t33_650M_UR50S\")\n",
    "batch_converter = alphabet.get_batch_converter()\n",
    "model.eval()"
   ]
  },
  {
   "cell_type": "code",
   "execution_count": 217,
   "id": "26a2fabb",
   "metadata": {},
   "outputs": [],
   "source": [
    "def mask_seq(seq, indices):\n",
    "    new_seq = [x for x in seq]\n",
    "    for i in indices:\n",
    "        new_seq[i] = '<mask>'\n",
    "    return \"\".join(new_seq)"
   ]
  },
  {
   "cell_type": "code",
   "execution_count": 151,
   "id": "3a59aeff",
   "metadata": {},
   "outputs": [],
   "source": [
    "def mask_seq_region(seq, region):\n",
    "    start = region[0]\n",
    "    end = region[1]\n",
    "    indices = [x for x in range(start, end)]\n",
    "    return mask_seq(seq, indices)"
   ]
  },
  {
   "cell_type": "code",
   "execution_count": 97,
   "id": "5afc594f",
   "metadata": {},
   "outputs": [],
   "source": [
    "def top_k_top_p_filtering(logits, top_k=0, top_p=0.0, filter_value=-float('Inf')):\n",
    "    \"\"\" Filter a distribution of logits using top-k and/or nucleus (top-p) filtering\n",
    "        Args:\n",
    "            logits: logits distribution shape (vocabulary size)\n",
    "            top_k >0: keep only top k tokens with highest probability (top-k filtering).\n",
    "            top_p >0.0: keep the top tokens with cumulative probability >= top_p (nucleus filtering).\n",
    "                Nucleus filtering is described in Holtzman et al. (http://arxiv.org/abs/1904.09751)\n",
    "    \"\"\"\n",
    "    assert logits.dim() == 1  # batch size 1 for now - could be updated for more but the code would be less clear\n",
    "    top_k = min(top_k, logits.size(-1))  # Safety check\n",
    "    if top_k > 0:\n",
    "        # Remove all tokens with a probability less than the last token of the top-k\n",
    "        indices_to_remove = logits < torch.topk(logits, top_k)[0][..., -1, None]\n",
    "        logits[indices_to_remove] = filter_value\n",
    "\n",
    "    if top_p > 0.0:\n",
    "        sorted_logits, sorted_indices = torch.sort(logits, descending=True)\n",
    "        cumulative_probs = torch.cumsum(F.softmax(sorted_logits, dim=-1), dim=-1)\n",
    "\n",
    "        # Remove tokens with cumulative probability above the threshold\n",
    "        sorted_indices_to_remove = cumulative_probs > top_p\n",
    "        # Shift the indices to the right to keep also the first token above the threshold\n",
    "        sorted_indices_to_remove[..., 1:] = sorted_indices_to_remove[..., :-1].clone()\n",
    "        sorted_indices_to_remove[..., 0] = 0\n",
    "\n",
    "        indices_to_remove = sorted_indices[sorted_indices_to_remove]\n",
    "        logits[indices_to_remove] = filter_value\n",
    "    return logits"
   ]
  },
  {
   "cell_type": "code",
   "execution_count": 198,
   "id": "d29a7e8b",
   "metadata": {},
   "outputs": [],
   "source": [
    "region = (3, 6)\n",
    "mask_indices = [x for x in range(region[0], region[1])]\n",
    "original_seq = \"MKTVRQERLKSIVRILERSKEPVSGAQLAEELSVSRQVIVQDIAYLRSLGYNIVATPRGYVLAGG\""
   ]
  },
  {
   "cell_type": "code",
   "execution_count": 206,
   "id": "0d633dd0",
   "metadata": {},
   "outputs": [],
   "source": [
    "temperature = 1.0\n",
    "top_k = 0\n",
    "top_p = 0.9"
   ]
  },
  {
   "cell_type": "code",
   "execution_count": 251,
   "id": "86a5b942",
   "metadata": {},
   "outputs": [],
   "source": [
    "#TODO: Add MSA"
   ]
  },
  {
   "cell_type": "code",
   "execution_count": 247,
   "id": "93bf4522",
   "metadata": {},
   "outputs": [],
   "source": [
    "def sample_candidate(seq, indices):\n",
    "    print(f\"original seq: {seq}\")\n",
    "    candidate = \"\" + seq\n",
    "    \n",
    "    # mask original sequence\n",
    "    masked = mask_seq(candidate, indices)\n",
    "\n",
    "    # prepare input\n",
    "    data = [(\"protein1\", masked)]\n",
    "    _, _, batch_tokens = batch_converter(data)\n",
    "\n",
    "    # run model\n",
    "    with torch.no_grad():\n",
    "        results = model(batch_tokens, repr_layers=[33], return_contacts=True)\n",
    "    logits = results['logits']\n",
    "\n",
    "    # conditionally generate masked aa's\n",
    "    for i, idx in enumerate(indices):\n",
    "        # nuclues sample wrt logits\n",
    "        temp_logits = logits[0, idx, :] / temperature\n",
    "        filtered_logits = top_k_top_p_filtering(temp_logits, top_k=top_k, top_p=top_p)\n",
    "        probabilities = F.softmax(filtered_logits, dim=-1) # TODO: special tokens can be sampled!\n",
    "        next_token = torch.multinomial(probabilities, 1)\n",
    "        next_aa = alphabet.all_toks[int(next_token)]\n",
    "        print(f\"predicted: {next_aa} real is: {seq[idx]}\")\n",
    "        \n",
    "        # update candidate with new aa\n",
    "        candidate = candidate[:idx] + next_aa + candidate[idx + 1:]\n",
    "        \n",
    "    return candidate"
   ]
  },
  {
   "cell_type": "code",
   "execution_count": 253,
   "id": "ec9b4178",
   "metadata": {},
   "outputs": [],
   "source": [
    "def sample_candidate_conditional(seq, indices):\n",
    "    print(f\"original seq: {seq}\")\n",
    "    candidate = \"\" + seq\n",
    "\n",
    "    # conditionally generate masked aa's\n",
    "    for i, idx in enumerate(indices):\n",
    "        # mask original sequence\n",
    "        masked = mask_seq(candidate, indices[i:])\n",
    "        print(f\"candidate: {candidate}\")\n",
    "        \n",
    "        # prepare input\n",
    "        data = [(\"protein1\", masked)]\n",
    "        _, _, batch_tokens = batch_converter(data)\n",
    "        \n",
    "        # run model\n",
    "        with torch.no_grad():\n",
    "            results = model(batch_tokens, repr_layers=[33], return_contacts=True)\n",
    "        logits = results['logits']\n",
    "        \n",
    "        # nuclues sample wrt logits\n",
    "        temp_logits = logits[0, idx, :] / temperature\n",
    "        filtered_logits = top_k_top_p_filtering(temp_logits, top_k=top_k, top_p=top_p)\n",
    "        probabilities = F.softmax(filtered_logits, dim=-1) # TODO: special tokens can be sampled!\n",
    "        next_token = torch.multinomial(probabilities, 1)\n",
    "        next_aa = alphabet.all_toks[int(next_token)]\n",
    "        print(f\"predicted: {next_aa} real is: {seq[idx]}\")\n",
    "        \n",
    "        # update candidate with new aa\n",
    "        candidate = candidate[:idx] + next_aa + candidate[idx + 1:]\n",
    "        \n",
    "    return candidate"
   ]
  }
 ],
 "metadata": {
  "kernelspec": {
   "display_name": "Python 3 (ipykernel)",
   "language": "python",
   "name": "python3"
  },
  "language_info": {
   "codemirror_mode": {
    "name": "ipython",
    "version": 3
   },
   "file_extension": ".py",
   "mimetype": "text/x-python",
   "name": "python",
   "nbconvert_exporter": "python",
   "pygments_lexer": "ipython3",
   "version": "3.9.7"
  }
 },
 "nbformat": 4,
 "nbformat_minor": 5
}
